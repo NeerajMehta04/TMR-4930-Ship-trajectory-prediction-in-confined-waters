{
 "cells": [
  {
   "cell_type": "markdown",
   "metadata": {},
   "source": [
    "## 4 AIS dataset process"
   ]
  },
  {
   "cell_type": "code",
   "execution_count": 163,
   "metadata": {},
   "outputs": [],
   "source": [
    "to_process_data_path = r'W:\\Neeraj_thesis\\version2_thesis\\dataset\\2019\\generator_version_3_output\\data_2019_01_v3_out.csv' # NOT USE Version_4: as is for transformer set \n",
    "to_store_data_path_X = r'W:\\Neeraj_thesis\\version2_thesis\\dataset\\2019\\generator_version_5_output\\data_2019_12_v5_out\\data_2019_12_X.npy'\n",
    "to_store_data_path_Y_lat = r'W:\\Neeraj_thesis\\version2_thesis\\dataset\\2019\\generator_version_5_output\\data_2019_12_v5_out\\data_2019_12_Y_lat.npy'\n",
    "to_store_data_path_Y_lon = r'W:\\Neeraj_thesis\\version2_thesis\\dataset\\2019\\generator_version_5_output\\data_2019_12_v5_out\\data_2019_12_Y_lon.npy'\n",
    "to_store_data_path_Y = r'W:\\Neeraj_thesis\\version2_thesis\\dataset\\2019\\generator_version_5_output\\data_2019_01_v5_out\\data_2019_01_Y.npy'\n"
   ]
  },
  {
   "cell_type": "code",
   "execution_count": 164,
   "metadata": {},
   "outputs": [],
   "source": [
    "# import libraries\n",
    "\n",
    "import pandas as pd\n",
    "import numpy as np\n",
    "\n",
    "import matplotlib\n",
    "import matplotlib.pyplot as plt\n",
    "from matplotlib import figure\n",
    "from matplotlib.colors import ListedColormap\n",
    "from matplotlib import cm\n",
    "\n",
    "from math import radians, sin, cos, sqrt, atan2"
   ]
  },
  {
   "cell_type": "code",
   "execution_count": 165,
   "metadata": {},
   "outputs": [],
   "source": [
    "ais_std_v1 = pd.read_csv(to_process_data_path)"
   ]
  },
  {
   "cell_type": "code",
   "execution_count": 168,
   "metadata": {},
   "outputs": [
    {
     "name": "stdout",
     "output_type": "stream",
     "text": [
      "min_to_coast (in nm) 0.0\n",
      "max_to_coast (in nm) 26.811\n"
     ]
    }
   ],
   "source": [
    "# closest_dist_shore\n",
    "min_dist_coast = ais_std_v1['NDC_nm'].min()\n",
    "max_dist_coast = ais_std_v1['NDC_nm'].max()\n",
    "print('min_to_coast (in nm)', min_dist_coast)\n",
    "print('max_to_coast (in nm)', max_dist_coast)\n",
    "\n",
    "if max_dist_coast > (50000/1852):\n",
    "    raise ValueError('Maximum distance to coast is greater than 26.99 nm')\n",
    "else:\n",
    "    pass\n",
    "\n",
    "ais_std_v2 = ais_std_v1.copy()"
   ]
  },
  {
   "cell_type": "code",
   "execution_count": 169,
   "metadata": {},
   "outputs": [],
   "source": [
    "ais_std_v2 = ais_std_v2.drop(['mmsi','cog','unixtime','short_voyage_id'], axis=1).reset_index(drop = True)"
   ]
  },
  {
   "cell_type": "code",
   "execution_count": 170,
   "metadata": {},
   "outputs": [],
   "source": [
    "ais_std_v3 = ais_std_v2.copy()\n",
    "\n",
    "# define the min and max values for lat and lon standardization\n",
    "min_lat, max_lat = 58.6, 59.93\n",
    "min_lon, max_lon = 9.4, 11.45\n",
    "min_sog, max_sog = 0 , 40\n",
    "min_coast, max_coast = 0, round(50000/1852, 3)\n",
    "\n",
    "# standardize the lat and lon values between 0 and 1\n",
    "ais_std_v3['lat_s'] = (ais_std_v3['lat'] - min_lat) / (max_lat - min_lat)\n",
    "ais_std_v3['lon_s'] = (ais_std_v3['lon'] - min_lon) / (max_lon - min_lon)\n",
    "ais_std_v3['sog_s'] = (ais_std_v3['sog'] - min_sog) / (max_sog - min_sog)\n",
    "ais_std_v3['NDC_s'] = (ais_std_v3['NDC_nm'] - min_coast) / (max_coast - min_coast)\n",
    "\n",
    "ais_std_v3 = ais_std_v3.drop(['lat','lon','sog','NDC_nm'], axis=1).reset_index(drop = True)\n",
    "\n",
    "# new column arrangement\n",
    "col_arrange = ['lat_s','lon_s','sog_s','cog_sin','cog_cos','NDC_s','In_TSS', 'Vessel_TSS', 'new_short_voyage_id','position']\n",
    "ais_std_v3 = ais_std_v3[col_arrange]"
   ]
  },
  {
   "cell_type": "code",
   "execution_count": 171,
   "metadata": {},
   "outputs": [
    {
     "data": {
      "text/plain": [
       "lat_s                  0\n",
       "lon_s                  0\n",
       "sog_s                  0\n",
       "cog_sin                0\n",
       "cog_cos                0\n",
       "NDC_s                  0\n",
       "In_TSS                 0\n",
       "Vessel_TSS             0\n",
       "new_short_voyage_id    0\n",
       "position               0\n",
       "dtype: int64"
      ]
     },
     "execution_count": 171,
     "metadata": {},
     "output_type": "execute_result"
    }
   ],
   "source": [
    "# replace NaN values in Vessel_TSS column with zeros\n",
    "ais_std_v3['Vessel_TSS'].fillna(0, inplace=True)\n",
    "ais_std_v3.isna().sum()"
   ]
  },
  {
   "cell_type": "code",
   "execution_count": 172,
   "metadata": {},
   "outputs": [],
   "source": [
    "# Prepare dataset for LSTM,CNN-lstm,GRU Models\n",
    "\n",
    "def create_datasets(data, voyage_col_name , look_back = 10, target_size = 10):\n",
    "    voyage_tags = data[voyage_col_name].unique()\n",
    "\n",
    "    X, Y_lat, Y_lon, Y = [],[],[],[]\n",
    "    for voyage in voyage_tags:\n",
    "        voyage_df = data[data [voyage_col_name] == int(voyage)] \n",
    "        voyage_df.sort_values('position')\n",
    "        voyage_df_v2 = voyage_df[['lat_s', 'lon_s', 'sog_s', 'cog_sin' , 'cog_cos', 'NDC_s', 'In_TSS', 'Vessel_TSS']].values\n",
    "\n",
    "        for i in range(len(voyage_df_v2) - look_back -target_size + 1): # eg. for len(data) = 39 ; range (20)\n",
    "            X.append(voyage_df_v2[i:(i+look_back)]) # Starts from [0:10] ends at [19:29] for a len(data) = 30\n",
    "            Y_lat.append(voyage_df_v2[(i+look_back) : (i+look_back+target_size), 0:1]) # Starts at [10:20] ends at [29:39]\n",
    "            Y_lon.append(voyage_df_v2[(i+look_back) : (i+look_back+target_size), 1:2]) # Starts at [10:20] ends at [29:39]\n",
    "            Y.append(voyage_df_v2[(i+look_back) : (i+look_back+target_size), 0:2]) # Starts at [10:20] ends at [29:39]\n",
    "\n",
    "    return np.array(Y), np.array(X), np.array(Y_lat), np.array(Y_lon)"
   ]
  },
  {
   "cell_type": "code",
   "execution_count": 173,
   "metadata": {},
   "outputs": [],
   "source": [
    "# data_X, data_Y_lat, data_Y_lon = create_datasets( ais_std_v3, voyage_col_name= 'new_short_voyage_id', look_back= 10, target_size= 10 ) # 10 steps -> 5 minutes\n",
    "\n",
    "data_Y = create_datasets( ais_std_v3, voyage_col_name= 'new_short_voyage_id', look_back= 10, target_size= 10 ) # 10 steps -> 5 minutes"
   ]
  },
  {
   "cell_type": "code",
   "execution_count": 174,
   "metadata": {},
   "outputs": [],
   "source": [
    "# Save the datasets as NumPy arrays : with 6 key features standardized ('lat', 'lon', 'sog', 'cog_sin', 'cog_cos', 'NDC_nm', in_TSS, Vessel_TSS  )\n",
    "np.save(to_store_data_path_X, data_X)\n",
    "np.save(to_store_data_path_Y_lat, data_Y_lat)\n",
    "np.save(to_store_data_path_Y_lon, data_Y_lon)\n",
    "np.save(to_store_data_path_Y, data_Y)"
   ]
  }
 ],
 "metadata": {
  "kernelspec": {
   "display_name": "tf_v1",
   "language": "python",
   "name": "python3"
  },
  "language_info": {
   "codemirror_mode": {
    "name": "ipython",
    "version": 3
   },
   "file_extension": ".py",
   "mimetype": "text/x-python",
   "name": "python",
   "nbconvert_exporter": "python",
   "pygments_lexer": "ipython3",
   "version": "3.9.13"
  },
  "orig_nbformat": 4
 },
 "nbformat": 4,
 "nbformat_minor": 2
}
