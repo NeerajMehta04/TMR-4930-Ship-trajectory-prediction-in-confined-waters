{
 "cells": [
  {
   "cell_type": "markdown",
   "metadata": {},
   "source": [
    "## 6 Training dataset creation - concatenating months (Jan to Oct) "
   ]
  },
  {
   "cell_type": "code",
   "execution_count": 2,
   "metadata": {},
   "outputs": [],
   "source": [
    "import pandas as pd\n",
    "import numpy as np"
   ]
  },
  {
   "cell_type": "code",
   "execution_count": 3,
   "metadata": {},
   "outputs": [],
   "source": [
    "# # Save the datasets as NumPy arrays : with 6 key features standardized ('lat', 'lon', 'sog', 'cog_sin', 'cog_cos', 'NDC_nm', in_TSS, Vessel_TSS  )\n",
    "to_store_data_path_X_train = r'W:\\Neeraj_thesis\\version2_thesis\\dataset\\2019\\generator_version_8_output\\1_10_train_rnn\\data_2019_train_X_v8_out.np'\n",
    "to_store_data_path_Y_lat_train = r'W:\\Neeraj_thesis\\version2_thesis\\dataset\\2019\\generator_version_8_output\\1_10_train_rnn\\data_2019_train_Y_lat_v8_out.np'\n",
    "to_store_data_path_Y_lon_train = r'W:\\Neeraj_thesis\\version2_thesis\\dataset\\2019\\generator_version_8_output\\1_10_train_rnn\\data_2019_train_Y_lon_v8_out.np'\n",
    "to_store_data_path_Y_train = r'W:\\Neeraj_thesis\\version2_thesis\\dataset\\2019\\generator_version_8_output\\1_10_train_rnn\\data_2019_train_Y_v8_out.np'"
   ]
  },
  {
   "cell_type": "code",
   "execution_count": 10,
   "metadata": {},
   "outputs": [],
   "source": [
    "read_1_X = r'W:\\Neeraj_thesis\\version2_thesis\\dataset\\2019\\generator_version_5_output\\data_2019_01_v5_out\\data_2019_01_X.npy'\n",
    "read_2_X = r'W:\\Neeraj_thesis\\version2_thesis\\dataset\\2019\\generator_version_5_output\\data_2019_02_v5_out\\data_2019_02_X.npy'\n",
    "read_3_X = r'W:\\Neeraj_thesis\\version2_thesis\\dataset\\2019\\generator_version_5_output\\data_2019_03_v5_out\\data_2019_03_X.npy'\n",
    "read_4_X = r'W:\\Neeraj_thesis\\version2_thesis\\dataset\\2019\\generator_version_5_output\\data_2019_04_v5_out\\data_2019_04_X.npy'\n",
    "read_5_X = r'W:\\Neeraj_thesis\\version2_thesis\\dataset\\2019\\generator_version_5_output\\data_2019_05_v5_out\\data_2019_05_X.npy'\n",
    "read_6_X = r'W:\\Neeraj_thesis\\version2_thesis\\dataset\\2019\\generator_version_5_output\\data_2019_06_v5_out\\data_2019_06_X.npy'\n",
    "read_7_X = r'W:\\Neeraj_thesis\\version2_thesis\\dataset\\2019\\generator_version_5_output\\data_2019_07_v5_out\\data_2019_07_X.npy'\n",
    "read_8_X = r'W:\\Neeraj_thesis\\version2_thesis\\dataset\\2019\\generator_version_5_output\\data_2019_08_v5_out\\data_2019_08_X.npy'\n",
    "read_9_X = r'W:\\Neeraj_thesis\\version2_thesis\\dataset\\2019\\generator_version_5_output\\data_2019_09_v5_out\\data_2019_09_X.npy'\n",
    "read_10_X = r'W:\\Neeraj_thesis\\version2_thesis\\dataset\\2019\\generator_version_5_output\\data_2019_10_v5_out\\data_2019_10_X.npy'\n",
    "\n",
    "# read_11_X = r'W:\\Neeraj_thesis\\version2_thesis\\dataset\\2019\\generator_version_5_output\\data_2019_11_v5_out\\data_2019_11_X.npy'\n",
    "\n",
    "# read_12_X = r'W:\\Neeraj_thesis\\version2_thesis\\dataset\\2019\\generator_version_5_output\\data_2019_12_v5_out\\data_2019_12_X.npy'\n"
   ]
  },
  {
   "cell_type": "code",
   "execution_count": 14,
   "metadata": {},
   "outputs": [],
   "source": [
    "read_1_Y_lat = r'W:\\Neeraj_thesis\\version2_thesis\\dataset\\2019\\generator_version_5_output\\data_2019_01_v5_out\\data_2019_01_Y_lat.npy'\n",
    "read_2_Y_lat = r'W:\\Neeraj_thesis\\version2_thesis\\dataset\\2019\\generator_version_5_output\\data_2019_02_v5_out\\data_2019_02_Y_lat.npy'\n",
    "read_3_Y_lat = r'W:\\Neeraj_thesis\\version2_thesis\\dataset\\2019\\generator_version_5_output\\data_2019_03_v5_out\\data_2019_03_Y_lat.npy'\n",
    "read_4_Y_lat = r'W:\\Neeraj_thesis\\version2_thesis\\dataset\\2019\\generator_version_5_output\\data_2019_04_v5_out\\data_2019_04_Y_lat.npy'\n",
    "read_5_Y_lat = r'W:\\Neeraj_thesis\\version2_thesis\\dataset\\2019\\generator_version_5_output\\data_2019_05_v5_out\\data_2019_05_Y_lat.npy'\n",
    "read_6_Y_lat = r'W:\\Neeraj_thesis\\version2_thesis\\dataset\\2019\\generator_version_5_output\\data_2019_06_v5_out\\data_2019_06_Y_lat.npy'\n",
    "read_7_Y_lat = r'W:\\Neeraj_thesis\\version2_thesis\\dataset\\2019\\generator_version_5_output\\data_2019_07_v5_out\\data_2019_07_Y_lat.npy'\n",
    "read_8_Y_lat = r'W:\\Neeraj_thesis\\version2_thesis\\dataset\\2019\\generator_version_5_output\\data_2019_08_v5_out\\data_2019_08_Y_lat.npy'\n",
    "read_9_Y_lat = r'W:\\Neeraj_thesis\\version2_thesis\\dataset\\2019\\generator_version_5_output\\data_2019_09_v5_out\\data_2019_09_Y_lat.npy'\n",
    "read_10_Y_lat = r'W:\\Neeraj_thesis\\version2_thesis\\dataset\\2019\\generator_version_5_output\\data_2019_10_v5_out\\data_2019_10_Y_lat.npy'\n",
    "\n",
    "# read_11_Y_lat = r'W:\\Neeraj_thesis\\version2_thesis\\dataset\\2019\\generator_version_5_output\\data_2019_11_v5_out\\data_2019_11_Y_lat.npy'\n",
    "\n",
    "# read_12_Y_lat = r'W:\\Neeraj_thesis\\version2_thesis\\dataset\\2019\\generator_version_5_output\\data_2019_12_v5_out\\data_2019_12_Y_lat.npy'\n"
   ]
  },
  {
   "cell_type": "code",
   "execution_count": 15,
   "metadata": {},
   "outputs": [],
   "source": [
    "read_1_Y_lon = r'W:\\Neeraj_thesis\\version2_thesis\\dataset\\2019\\generator_version_5_output\\data_2019_01_v5_out\\data_2019_01_Y_lon.npy'\n",
    "read_2_Y_lon = r'W:\\Neeraj_thesis\\version2_thesis\\dataset\\2019\\generator_version_5_output\\data_2019_02_v5_out\\data_2019_02_Y_lon.npy'\n",
    "read_3_Y_lon = r'W:\\Neeraj_thesis\\version2_thesis\\dataset\\2019\\generator_version_5_output\\data_2019_03_v5_out\\data_2019_03_Y_lon.npy'\n",
    "read_4_Y_lon = r'W:\\Neeraj_thesis\\version2_thesis\\dataset\\2019\\generator_version_5_output\\data_2019_04_v5_out\\data_2019_04_Y_lon.npy'\n",
    "read_5_Y_lon = r'W:\\Neeraj_thesis\\version2_thesis\\dataset\\2019\\generator_version_5_output\\data_2019_05_v5_out\\data_2019_05_Y_lon.npy'\n",
    "read_6_Y_lon = r'W:\\Neeraj_thesis\\version2_thesis\\dataset\\2019\\generator_version_5_output\\data_2019_06_v5_out\\data_2019_06_Y_lon.npy'\n",
    "read_7_Y_lon = r'W:\\Neeraj_thesis\\version2_thesis\\dataset\\2019\\generator_version_5_output\\data_2019_07_v5_out\\data_2019_07_Y_lon.npy'\n",
    "read_8_Y_lon = r'W:\\Neeraj_thesis\\version2_thesis\\dataset\\2019\\generator_version_5_output\\data_2019_08_v5_out\\data_2019_08_Y_lon.npy'\n",
    "read_9_Y_lon = r'W:\\Neeraj_thesis\\version2_thesis\\dataset\\2019\\generator_version_5_output\\data_2019_09_v5_out\\data_2019_09_Y_lon.npy'\n",
    "read_10_Y_lon = r'W:\\Neeraj_thesis\\version2_thesis\\dataset\\2019\\generator_version_5_output\\data_2019_10_v5_out\\data_2019_10_Y_lon.npy'\n",
    "\n",
    "# read_11_Y_lat = r'W:\\Neeraj_thesis\\version2_thesis\\dataset\\2019\\generator_version_5_output\\data_2019_11_v5_out\\data_2019_11_Y_lat.npy'\n",
    "\n",
    "# read_12_Y_lat = r'W:\\Neeraj_thesis\\version2_thesis\\dataset\\2019\\generator_version_5_output\\data_2019_12_v5_out\\data_2019_12_Y_lat.npy'\n"
   ]
  },
  {
   "cell_type": "code",
   "execution_count": 4,
   "metadata": {},
   "outputs": [],
   "source": [
    "read_1_Y = r'W:\\Neeraj_thesis\\version2_thesis\\dataset\\2019\\generator_version_5_output\\data_2019_01_v5_out\\data_2019_01_Y.npy'\n",
    "read_2_Y = r'W:\\Neeraj_thesis\\version2_thesis\\dataset\\2019\\generator_version_5_output\\data_2019_02_v5_out\\data_2019_02_Y.npy'\n",
    "read_3_Y = r'W:\\Neeraj_thesis\\version2_thesis\\dataset\\2019\\generator_version_5_output\\data_2019_03_v5_out\\data_2019_03_Y.npy'\n",
    "read_4_Y = r'W:\\Neeraj_thesis\\version2_thesis\\dataset\\2019\\generator_version_5_output\\data_2019_04_v5_out\\data_2019_04_Y.npy'\n",
    "read_5_Y = r'W:\\Neeraj_thesis\\version2_thesis\\dataset\\2019\\generator_version_5_output\\data_2019_05_v5_out\\data_2019_05_Y.npy'\n",
    "read_6_Y = r'W:\\Neeraj_thesis\\version2_thesis\\dataset\\2019\\generator_version_5_output\\data_2019_06_v5_out\\data_2019_06_Y.npy'\n",
    "read_7_Y = r'W:\\Neeraj_thesis\\version2_thesis\\dataset\\2019\\generator_version_5_output\\data_2019_07_v5_out\\data_2019_07_Y.npy'\n",
    "read_8_Y = r'W:\\Neeraj_thesis\\version2_thesis\\dataset\\2019\\generator_version_5_output\\data_2019_08_v5_out\\data_2019_08_Y.npy'\n",
    "read_9_Y = r'W:\\Neeraj_thesis\\version2_thesis\\dataset\\2019\\generator_version_5_output\\data_2019_09_v5_out\\data_2019_09_Y.npy'\n",
    "read_10_Y = r'W:\\Neeraj_thesis\\version2_thesis\\dataset\\2019\\generator_version_5_output\\data_2019_10_v5_out\\data_2019_10_Y.npy'"
   ]
  },
  {
   "cell_type": "code",
   "execution_count": 13,
   "metadata": {},
   "outputs": [],
   "source": [
    "# Load the datasets from the saved files\n",
    "\n",
    "data_1_X = np.load(read_1_X)\n",
    "data_2_X = np.load(read_2_X)\n",
    "data_3_X = np.load(read_3_X)\n",
    "data_4_X = np.load(read_4_X)\n",
    "data_5_X = np.load(read_5_X)\n",
    "data_6_X = np.load(read_6_X)\n",
    "data_7_X = np.load(read_7_X)\n",
    "data_8_X = np.load(read_8_X)\n",
    "data_9_X = np.load(read_9_X)\n",
    "data_10_X = np.load(read_10_X)\n",
    "\n",
    "# data_11_X = np.load(read_11_X)\n",
    "# data_12_X = np.load(read_12_X)"
   ]
  },
  {
   "cell_type": "code",
   "execution_count": 16,
   "metadata": {},
   "outputs": [],
   "source": [
    "# Load the datasets from the saved files\n",
    "\n",
    "data_1_Y_lat = np.load(read_1_Y_lat)\n",
    "data_2_Y_lat = np.load(read_2_Y_lat)\n",
    "data_3_Y_lat = np.load(read_3_Y_lat)\n",
    "data_4_Y_lat = np.load(read_4_Y_lat)\n",
    "data_5_Y_lat = np.load(read_5_Y_lat)\n",
    "data_6_Y_lat = np.load(read_6_Y_lat)\n",
    "data_7_Y_lat = np.load(read_7_Y_lat)\n",
    "data_8_Y_lat = np.load(read_8_Y_lat)\n",
    "data_9_Y_lat = np.load(read_9_Y_lat)\n",
    "data_10_Y_lat = np.load(read_10_Y_lat)\n",
    "\n",
    "# data_11_Y_lat = np.load(read_11_Y_lat)\n",
    "# data_12_Y_lat = np.load(read_12_Y_lat)"
   ]
  },
  {
   "cell_type": "code",
   "execution_count": 17,
   "metadata": {},
   "outputs": [],
   "source": [
    "# Load the datasets from the saved files\n",
    "\n",
    "data_1_Y_lon = np.load(read_1_Y_lon)\n",
    "data_2_Y_lon = np.load(read_2_Y_lon)\n",
    "data_3_Y_lon = np.load(read_3_Y_lon)\n",
    "data_4_Y_lon = np.load(read_4_Y_lon)\n",
    "data_5_Y_lon = np.load(read_5_Y_lon)\n",
    "data_6_Y_lon = np.load(read_6_Y_lon)\n",
    "data_7_Y_lon = np.load(read_7_Y_lon)\n",
    "data_8_Y_lon = np.load(read_8_Y_lon)\n",
    "data_9_Y_lon = np.load(read_9_Y_lon)\n",
    "data_10_Y_lon = np.load(read_10_Y_lon)\n",
    "\n",
    "# data_11_Y_lon = np.load(read_11_Y_lat)\n",
    "# data_12_Y_lon = np.load(read_12_Y_lat)"
   ]
  },
  {
   "cell_type": "code",
   "execution_count": 5,
   "metadata": {},
   "outputs": [],
   "source": [
    "# Load the datasets from the saved files\n",
    "\n",
    "data_1_Y = np.load(read_1_Y)\n",
    "data_2_Y = np.load(read_2_Y)\n",
    "data_3_Y = np.load(read_3_Y)\n",
    "data_4_Y = np.load(read_4_Y)\n",
    "data_5_Y = np.load(read_5_Y)\n",
    "data_6_Y = np.load(read_6_Y)\n",
    "data_7_Y = np.load(read_7_Y)\n",
    "data_8_Y = np.load(read_8_Y)\n",
    "data_9_Y = np.load(read_9_Y)\n",
    "data_10_Y = np.load(read_10_Y)\n"
   ]
  },
  {
   "cell_type": "code",
   "execution_count": 6,
   "metadata": {},
   "outputs": [],
   "source": [
    "X_train_frames = (data_1_X, data_2_X, data_3_X, data_4_X, data_5_X, data_6_X, data_7_X, data_8_X, data_9_X, data_10_X)\n",
    "Y_lat_train_frames = (data_1_Y_lat, data_2_Y_lat, data_3_Y_lat, data_4_Y_lat, data_5_Y_lat, data_6_Y_lat, data_7_Y_lat, data_8_Y_lat, data_9_Y_lat, data_10_Y_lat)\n",
    "Y_lon_train_frames = (data_1_Y_lon, data_2_Y_lon, data_3_Y_lon, data_4_Y_lon, data_5_Y_lon, data_6_Y_lon, data_7_Y_lon, data_8_Y_lon, data_9_Y_lon, data_10_Y_lon)\n",
    "\n",
    "Y_train_frames = (data_1_Y, data_2_Y, data_3_Y, data_4_Y, data_5_Y, data_6_Y, data_7_Y, data_8_Y, data_9_Y, data_10_Y)"
   ]
  },
  {
   "cell_type": "code",
   "execution_count": 7,
   "metadata": {},
   "outputs": [],
   "source": [
    "data_X_train = np.concatenate(X_train_frames, axis=0)\n",
    "data_Y_lat_train = np.concatenate(Y_lat_train_frames, axis=0)\n",
    "data_Y_lon_train = np.concatenate(Y_lon_train_frames, axis=0)\n",
    "\n",
    "data_Y_train = np.concatenate(Y_train_frames, axis=0)\n"
   ]
  },
  {
   "cell_type": "code",
   "execution_count": 8,
   "metadata": {},
   "outputs": [],
   "source": [
    "# Save the datasets as NumPy arrays : with 6 key features standardized ('lat', 'lon', 'sog', 'cog_sin', 'cog_cos', 'NDC_nm', in_TSS, Vessel_TSS  )\n",
    "np.save(to_store_data_path_X_train, data_X_train)\n",
    "np.save(to_store_data_path_Y_lat_train, data_Y_lat_train)\n",
    "np.save(to_store_data_path_Y_lon_train, data_Y_lon_train)\n",
    "\n",
    "np.save(to_store_data_path_Y_train, data_Y_train)"
   ]
  }
 ],
 "metadata": {
  "kernelspec": {
   "display_name": "Python 3",
   "language": "python",
   "name": "python3"
  },
  "language_info": {
   "codemirror_mode": {
    "name": "ipython",
    "version": 3
   },
   "file_extension": ".py",
   "mimetype": "text/x-python",
   "name": "python",
   "nbconvert_exporter": "python",
   "pygments_lexer": "ipython3",
   "version": "3.9.13"
  },
  "orig_nbformat": 4
 },
 "nbformat": 4,
 "nbformat_minor": 2
}
