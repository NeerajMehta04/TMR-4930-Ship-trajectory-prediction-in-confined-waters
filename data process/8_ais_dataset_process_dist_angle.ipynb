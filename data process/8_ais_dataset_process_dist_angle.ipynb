{
 "cells": [
  {
   "cell_type": "markdown",
   "metadata": {},
   "source": [
    "## 8 AIS dataset process - for the RDA (Relative displacement angle) approach "
   ]
  },
  {
   "cell_type": "code",
   "execution_count": 333,
   "metadata": {},
   "outputs": [],
   "source": [
    "# from sklearn.neighbors import BallTree\n",
    "import numpy as np\n",
    "import pandas as pd\n",
    "from haversine import haversine, Unit\n",
    "\n",
    "\n",
    "pd.options.mode.chained_assignment = None  # default='warn'"
   ]
  },
  {
   "cell_type": "code",
   "execution_count": 334,
   "metadata": {},
   "outputs": [],
   "source": [
    "load_X = np.load(r'W:\\Neeraj_thesis\\version2_thesis\\dataset\\2019\\generator_version_5_output\\data_2019_12_v5_out\\data_2019_12_X.npy')\n",
    "load_Y = np.load(r'W:\\Neeraj_thesis\\version2_thesis\\dataset\\2019\\generator_version_5_output\\data_2019_12_v5_out\\data_2019_12_Y.npy')\n",
    "to_store_path =  r'W:\\Neeraj_thesis\\version2_thesis\\dataset\\2019\\generator_version_10_output_encounter_unifom_ts\\data_2019_02_v10_out_encounters_uniform_ts.csv'\n",
    "\n",
    "Y_distance_path = r\"W:/Neeraj_thesis/version2_thesis/dataset/2019/generator_version_5_output/data_2019_12_v5_out/data_2019_12_Y_array_distance_m_s.npy\"\n",
    "Y_angle_path= r\"W:/Neeraj_thesis/version2_thesis/dataset/2019/generator_version_5_output/data_2019_12_v5_out/data_2019_12_Y_array_angle_m.npy\"\n"
   ]
  },
  {
   "cell_type": "code",
   "execution_count": 336,
   "metadata": {},
   "outputs": [],
   "source": [
    "X_flat = load_X.flatten()\n",
    "Y_flat = load_Y.flatten()\n",
    "X_array = X_flat.reshape(-1,8)\n",
    "Y_array = Y_flat.reshape(-1,2)\n",
    "\n",
    "X_df = pd.DataFrame(X_array, columns= ['lat_s', 'lon_s', 'sog_s', 'cog_sin' , 'cog_cos', 'NDC_s', 'In_TSS', 'Vessel_TSS'])\n",
    "Y_df = pd.DataFrame(Y_array, columns= ['lat_s', 'lon_s'])"
   ]
  },
  {
   "cell_type": "code",
   "execution_count": 337,
   "metadata": {},
   "outputs": [],
   "source": [
    "min_lat, max_lat = 58.6, 59.93\n",
    "min_lon, max_lon = 9.4, 11.45\n",
    "\n",
    "X_df['lat'] = X_df['lat_s'] * (max_lat - min_lat) + min_lat\n",
    "X_df['lon'] = X_df['lon_s'] * (max_lon - min_lon) + min_lon\n",
    "\n",
    "Y_df['lat'] = Y_df['lat_s'] * (max_lat - min_lat) + min_lat\n",
    "Y_df['lon'] = Y_df['lon_s'] * (max_lon - min_lon) + min_lon"
   ]
  },
  {
   "cell_type": "code",
   "execution_count": 338,
   "metadata": {},
   "outputs": [],
   "source": [
    "Y_df['lat_ref'] = 0\n",
    "Y_df['lon_ref'] = 0"
   ]
  },
  {
   "cell_type": "code",
   "execution_count": 339,
   "metadata": {},
   "outputs": [],
   "source": [
    "start_indices = np.arange(0, len(Y_df), 10)\n",
    "end_indices = start_indices + 9\n",
    "\n",
    "lat_val = X_df['lat'].values[end_indices]\n",
    "lon_val = X_df['lon'].values[end_indices]\n",
    "\n",
    "lat_rep = np.repeat(lat_val, 10)\n",
    "lon_rep = np.repeat(lon_val, 10)\n",
    "\n",
    "Y_df['lat_ref'] = lat_rep[:len(Y_df)]\n",
    "Y_df['lon_ref'] = lon_rep[:len(Y_df)]"
   ]
  },
  {
   "cell_type": "code",
   "execution_count": 341,
   "metadata": {},
   "outputs": [],
   "source": [
    "from haversine import haversine, Unit \n",
    "import math\n",
    "\n",
    "# calculate distance using apply function\n",
    "Y_df['distance_m'] = Y_df.apply(lambda row: haversine((row['lat_ref'], row['lon_ref']), (row['lat'], row['lon']), unit=Unit.METERS), axis=1)\n",
    "# calculate angle (bearing) using apply function\n",
    "Y_df['angle'] = Y_df.apply(lambda row: math.degrees(math.atan2(math.sin(math.radians(row['lon'] - row['lon_ref'])) * math.cos(math.radians(row['lat'])), math.cos(math.radians(row['lat_ref'])) * math.sin(math.radians(row['lat'])) - math.sin(math.radians(row['lat_ref'])) * math.cos(math.radians(row['lat'])) * math.cos(math.radians(row['lon'] - row['lon_ref'])))), axis=1)\n"
   ]
  },
  {
   "cell_type": "code",
   "execution_count": 343,
   "metadata": {},
   "outputs": [
    {
     "name": "stdout",
     "output_type": "stream",
     "text": [
      "max distance: 5645.264070498614\n",
      "min distance: 0.0\n"
     ]
    }
   ],
   "source": [
    "# print('max distance:', Y_df['distance_m'].max()) \n",
    "# print('min distance:', Y_df['distance_m'].min())"
   ]
  },
  {
   "cell_type": "code",
   "execution_count": 345,
   "metadata": {},
   "outputs": [],
   "source": [
    "## to predict distance and angle \n",
    "Y_df_v2 = Y_df.copy()\n",
    "\n",
    "# define the min and max values for lat and lon standardization\n",
    "min_distance_m, max_distance_m = 0, 6000\n",
    "\n",
    "# standardize the lat and lon values between 0 and 1\n",
    "Y_df_v2['distance_m_s'] = (Y_df_v2['distance_m'] - min_distance_m) / (max_distance_m - min_distance_m)\n",
    "\n",
    "Y_df_v2 = Y_df_v2.drop(['lat_s','lon_s','lat','lon','lat_ref','lon_ref','distance_m'], axis=1).reset_index(drop = True)\n",
    "\n",
    "# # New column arrangement\n",
    "# col_arrange = ['lat_s','lon_s','sog_s','cog_sin','cog_cos','NDC_s','In_TSS', 'Vessel_TSS', 'new_short_voyage_id','position']\n",
    "# ais_std_v3 = ais_std_v3[col_arrange]"
   ]
  },
  {
   "cell_type": "code",
   "execution_count": 347,
   "metadata": {},
   "outputs": [],
   "source": [
    "# Y_df_angle_dist_from last input value\n",
    "# Generate sine and cosine columns\n",
    "\n",
    "Y_df_v2['sin_angle_m'] = Y_df_v2['angle'].apply(lambda x: math.sin(math.radians(x)))\n",
    "Y_df_v2['cos_angle_m'] = Y_df_v2['angle'].apply(lambda x: math.cos(math.radians(x)))\n"
   ]
  },
  {
   "cell_type": "code",
   "execution_count": 349,
   "metadata": {},
   "outputs": [],
   "source": [
    "Y_df_v3 = Y_df_v2.drop(['angle'], axis=1).reset_index(drop = True)\n",
    "Y_df_distance_m_s = Y_df_v3['distance_m_s']\n",
    "Y_df_angle_m = Y_df_v3[['sin_angle_m', 'cos_angle_m']]"
   ]
  },
  {
   "cell_type": "code",
   "execution_count": 351,
   "metadata": {},
   "outputs": [],
   "source": [
    "# Reshape the array\n",
    "Y_array_distance_m_s = Y_df_distance_m_s.values.reshape(len(Y_df_distance_m_s)//10, 10)\n",
    "# Reshape the angle dataset\n",
    "Y_array_angle_m = Y_df_angle_m.values.reshape(len(Y_df_angle_m)//10, 10, 2)"
   ]
  },
  {
   "cell_type": "code",
   "execution_count": 353,
   "metadata": {},
   "outputs": [],
   "source": [
    "# Save the arrays\n",
    "np.save(Y_distance_path, Y_array_distance_m_s)\n",
    "np.save(Y_angle_path, Y_array_angle_m)"
   ]
  }
 ],
 "metadata": {
  "kernelspec": {
   "display_name": "Python 3",
   "language": "python",
   "name": "python3"
  },
  "language_info": {
   "codemirror_mode": {
    "name": "ipython",
    "version": 3
   },
   "file_extension": ".py",
   "mimetype": "text/x-python",
   "name": "python",
   "nbconvert_exporter": "python",
   "pygments_lexer": "ipython3",
   "version": "3.9.13"
  },
  "orig_nbformat": 4
 },
 "nbformat": 4,
 "nbformat_minor": 2
}
