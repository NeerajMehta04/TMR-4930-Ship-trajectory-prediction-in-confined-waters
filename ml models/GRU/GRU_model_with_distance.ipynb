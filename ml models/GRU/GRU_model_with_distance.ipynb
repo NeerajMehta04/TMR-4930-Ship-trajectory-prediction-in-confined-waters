{
 "cells": [
  {
   "cell_type": "markdown",
   "metadata": {},
   "source": [
    "## GRU - With RDA data representation approach *Displacement/Distance"
   ]
  },
  {
   "cell_type": "code",
   "execution_count": 1,
   "metadata": {},
   "outputs": [],
   "source": [
    "import numpy as np\n",
    "import pandas as pd\n",
    "import matplotlib.pyplot as plt\n",
    "from keras.models import Sequential\n",
    "from keras.layers import GRU, Dense\n",
    "from keras.optimizers import Adam\n",
    "from sklearn.metrics import mean_squared_error\n",
    "from sklearn.model_selection import train_test_split\n",
    "from keras.callbacks import ModelCheckpoint\n",
    "\n",
    "import tensorflow as tf\n",
    "from tensorflow.keras.models import load_model\n"
   ]
  },
  {
   "cell_type": "code",
   "execution_count": 2,
   "metadata": {},
   "outputs": [],
   "source": [
    "to_store_path = r'D:\\2 Thesis\\2 models\\2023.07.02 all models\\GRU_02\\prediction csv\\v1_gru_pred_output_rel_dist.csv'"
   ]
  },
  {
   "cell_type": "code",
   "execution_count": 3,
   "metadata": {},
   "outputs": [],
   "source": [
    "X_train = np.load(r'D:\\2 Thesis\\1 train datasets\\2 train rda\\1 train\\data_2019_train_X_v8_out.npy')\n",
    "Y_train_dist =np.load(r'D:\\2 Thesis\\1 train datasets\\2 train rda\\1 train\\data_2019_train_Y_v8_rel_dist_out.npy')\n",
    "\n",
    "X_val = np.load(r'D:\\2 Thesis\\1 train datasets\\2 train rda\\2 val\\data_2019_11_X.npy')\n",
    "Y_val_dist = np.load(r'D:\\2 Thesis\\1 train datasets\\2 train rda\\2 val\\data_2019_11_Y_array_distance_m_s.npy')\n",
    "\n",
    "X_test = np.load(r'D:\\2 Thesis\\1 train datasets\\2 train rda\\3 test\\data_2019_12_X.npy')\n",
    "Y_test_dist = np.load(r'D:\\2 Thesis\\1 train datasets\\2 train rda\\3 test\\data_2019_12_Y_array_distance_m_s.npy')\n"
   ]
  },
  {
   "cell_type": "code",
   "execution_count": 4,
   "metadata": {},
   "outputs": [],
   "source": [
    "## Checkpoint save - dist\n",
    "checkpoint_filepath_dist = r'D:\\2 Thesis\\2 models\\2023.07.02 all models\\GRU_02\\best model rda ds\\gru_rel_dis_best_model_v3_dense.h5'"
   ]
  },
  {
   "cell_type": "code",
   "execution_count": 6,
   "metadata": {},
   "outputs": [],
   "source": [
    "X_train = X_train.astype(\"float32\") \n",
    "Y_train_dist = Y_train_dist.astype(\"float32\") \n",
    "\n",
    "X_val = X_val.astype(\"float32\") \n",
    "Y_val_dist = Y_val_dist.astype(\"float32\") \n",
    "\n",
    "X_test = X_test.astype(\"float32\") "
   ]
  },
  {
   "cell_type": "code",
   "execution_count": 7,
   "metadata": {},
   "outputs": [],
   "source": [
    "from tensorflow.keras.utils import Sequence\n",
    "import numpy as np   \n",
    "\n",
    "class DataGenerator(Sequence):\n",
    "    def __init__(self, x_set, y_set, batch_size):\n",
    "        self.x, self.y = x_set, y_set\n",
    "        self.batch_size = batch_size\n",
    "\n",
    "    def __len__(self):\n",
    "        return int(np.ceil(len(self.x) / float(self.batch_size)))\n",
    "\n",
    "    def __getitem__(self, idx):\n",
    "        batch_x = self.x[idx * self.batch_size:(idx + 1) * self.batch_size]\n",
    "        batch_y = self.y[idx * self.batch_size:(idx + 1) * self.batch_size]\n",
    "        return batch_x, batch_y\n"
   ]
  },
  {
   "cell_type": "code",
   "execution_count": 8,
   "metadata": {},
   "outputs": [],
   "source": [
    "train_gen_dist = DataGenerator(X_train, Y_train_dist, 200)\n",
    "val_gen_dist = DataGenerator(X_val, Y_val_dist, 200)"
   ]
  },
  {
   "cell_type": "code",
   "execution_count": 9,
   "metadata": {},
   "outputs": [
    {
     "name": "stdout",
     "output_type": "stream",
     "text": [
      "Model: \"sequential\"\n",
      "_________________________________________________________________\n",
      " Layer (type)                Output Shape              Param #   \n",
      "=================================================================\n",
      " gru (GRU)                   (None, 10, 74)            18648     \n",
      "                                                                 \n",
      " gru_1 (GRU)                 (None, 74)                33300     \n",
      "                                                                 \n",
      " dense (Dense)               (None, 10)                750       \n",
      "                                                                 \n",
      "=================================================================\n",
      "Total params: 52,698\n",
      "Trainable params: 52,698\n",
      "Non-trainable params: 0\n",
      "_________________________________________________________________\n"
     ]
    }
   ],
   "source": [
    "def gru_model(n_steps_input, n_steps_output, n_features):\n",
    "        # Define the GRU model\n",
    "    model = Sequential()\n",
    "    model.add(GRU(74, activation=\"tanh\", input_shape=(n_steps_input, n_features), return_sequences=True))\n",
    "    model.add(GRU(74, activation=\"tanh\"))\n",
    "    model.add(Dense(n_steps_output))\n",
    "    \n",
    "    return model\n",
    "\n",
    "model_rel_dist = gru_model(n_steps_input = 10, n_steps_output = 10  , n_features = 8 )\n",
    "model_rel_dist.summary()"
   ]
  },
  {
   "cell_type": "code",
   "execution_count": 10,
   "metadata": {},
   "outputs": [
    {
     "name": "stdout",
     "output_type": "stream",
     "text": [
      "Epoch 1/20\n",
      "54621/54621 [==============================] - 755s 14ms/step - loss: 0.0011 - mae: 0.0149 - val_loss: 9.2211e-04 - val_mae: 0.0141\n",
      "Epoch 2/20\n",
      "54621/54621 [==============================] - 769s 14ms/step - loss: 9.0504e-04 - mae: 0.0131 - val_loss: 8.0623e-04 - val_mae: 0.0120\n",
      "Epoch 3/20\n",
      "54621/54621 [==============================] - 758s 14ms/step - loss: 8.2703e-04 - mae: 0.0124 - val_loss: 7.1289e-04 - val_mae: 0.0114\n",
      "Epoch 4/20\n",
      "54621/54621 [==============================] - 775s 14ms/step - loss: 7.7130e-04 - mae: 0.0119 - val_loss: 6.9986e-04 - val_mae: 0.0117\n",
      "Epoch 5/20\n",
      "54621/54621 [==============================] - 751s 14ms/step - loss: 7.2490e-04 - mae: 0.0115 - val_loss: 6.1220e-04 - val_mae: 0.0103\n",
      "Epoch 6/20\n",
      "54621/54621 [==============================] - 632s 12ms/step - loss: 6.8531e-04 - mae: 0.0111 - val_loss: 5.9352e-04 - val_mae: 0.0105\n",
      "Epoch 7/20\n",
      "54621/54621 [==============================] - 634s 12ms/step - loss: 6.5385e-04 - mae: 0.0108 - val_loss: 5.8825e-04 - val_mae: 0.0107\n",
      "Epoch 8/20\n",
      "54621/54621 [==============================] - 678s 12ms/step - loss: 6.2601e-04 - mae: 0.0106 - val_loss: 5.3376e-04 - val_mae: 0.0095\n",
      "Epoch 9/20\n",
      "54621/54621 [==============================] - 775s 14ms/step - loss: 6.0159e-04 - mae: 0.0103 - val_loss: 5.2336e-04 - val_mae: 0.0094\n",
      "Epoch 10/20\n",
      "54621/54621 [==============================] - 744s 14ms/step - loss: 5.8201e-04 - mae: 0.0102 - val_loss: 5.1891e-04 - val_mae: 0.0096\n",
      "Epoch 11/20\n",
      "54621/54621 [==============================] - 634s 12ms/step - loss: 5.6399e-04 - mae: 0.0100 - val_loss: 4.9198e-04 - val_mae: 0.0092\n",
      "Epoch 12/20\n",
      "54621/54621 [==============================] - 685s 13ms/step - loss: 5.4879e-04 - mae: 0.0098 - val_loss: 4.8856e-04 - val_mae: 0.0092\n",
      "Epoch 13/20\n",
      "54621/54621 [==============================] - 739s 14ms/step - loss: 5.3587e-04 - mae: 0.0097 - val_loss: 4.7411e-04 - val_mae: 0.0092\n",
      "Epoch 14/20\n",
      "54621/54621 [==============================] - 752s 14ms/step - loss: 5.2394e-04 - mae: 0.0095 - val_loss: 4.6890e-04 - val_mae: 0.0090\n",
      "Epoch 15/20\n",
      "54621/54621 [==============================] - 668s 12ms/step - loss: 5.1215e-04 - mae: 0.0094 - val_loss: 4.7612e-04 - val_mae: 0.0092\n",
      "Epoch 16/20\n",
      "54621/54621 [==============================] - 652s 12ms/step - loss: 5.0214e-04 - mae: 0.0093 - val_loss: 4.5508e-04 - val_mae: 0.0087\n",
      "Epoch 17/20\n",
      "54621/54621 [==============================] - 727s 13ms/step - loss: 4.9285e-04 - mae: 0.0092 - val_loss: 4.4522e-04 - val_mae: 0.0086\n",
      "Epoch 18/20\n",
      "54621/54621 [==============================] - 715s 13ms/step - loss: 4.8380e-04 - mae: 0.0091 - val_loss: 4.4274e-04 - val_mae: 0.0086\n",
      "Epoch 19/20\n",
      "54621/54621 [==============================] - 669s 12ms/step - loss: 4.7552e-04 - mae: 0.0090 - val_loss: 4.4720e-04 - val_mae: 0.0089\n",
      "Epoch 20/20\n",
      "54621/54621 [==============================] - 663s 12ms/step - loss: 4.6793e-04 - mae: 0.0089 - val_loss: 4.2443e-04 - val_mae: 0.0083\n"
     ]
    }
   ],
   "source": [
    "\n",
    "\n",
    "# Compile the model\n",
    "model_rel_dist.compile(optimizer= Adam(learning_rate = 0.0001), loss = 'mean_squared_error', metrics=['mae'] ) #model.compile(optimizer=Adam(learning_rate = 0.001), loss=\"mse\")\n",
    "checkpoint_rel_dist = ModelCheckpoint(checkpoint_filepath_dist, monitor='val_loss', save_best_only=True, mode='min')\n",
    "\n",
    "# Train the model\n",
    "history_rdist = model_rel_dist.fit(train_gen_dist, validation_data = val_gen_dist, epochs=20, verbose=1, callbacks = [checkpoint_rel_dist])   #epochs=200, batch_size=32, validation_split=0.1, verbose=1)\n"
   ]
  },
  {
   "cell_type": "code",
   "execution_count": null,
   "metadata": {},
   "outputs": [],
   "source": [
    "# Plot the training and validation loss\n",
    "plt.plot(history_rdist.history['loss'], label='Training loss')\n",
    "plt.plot(history_rdist.history['val_loss'], label='Validation loss')\n",
    "plt.xlabel('Epoch')\n",
    "plt.ylabel('Loss')\n",
    "plt.legend()\n",
    "plt.show()\n",
    "\n",
    "# Plot the training and validation error\n",
    "plt.plot(history_rdist.history['mae'], label='Training error')\n",
    "plt.plot(history_rdist.history['val_mae'], label='Validation error')\n",
    "plt.xlabel('Epoch')\n",
    "plt.ylabel('Error')\n",
    "plt.legend()\n",
    "plt.show()"
   ]
  },
  {
   "cell_type": "code",
   "execution_count": 11,
   "metadata": {},
   "outputs": [],
   "source": [
    "best_model_dist = load_model(checkpoint_filepath_dist)"
   ]
  },
  {
   "cell_type": "code",
   "execution_count": 12,
   "metadata": {},
   "outputs": [
    {
     "name": "stdout",
     "output_type": "stream",
     "text": [
      "28322/28322 [==============================] - 91s 3ms/step\n"
     ]
    }
   ],
   "source": [
    "# Evaluate the model\n",
    "Y_test_pred_dist = best_model_dist.predict(X_test)"
   ]
  },
  {
   "cell_type": "code",
   "execution_count": 13,
   "metadata": {},
   "outputs": [],
   "source": [
    "Y_test_dist = Y_test_dist.squeeze()"
   ]
  },
  {
   "cell_type": "code",
   "execution_count": 14,
   "metadata": {},
   "outputs": [
    {
     "name": "stdout",
     "output_type": "stream",
     "text": [
      "Mean Squared Error_test_pred_relative_distance: 0.00039257772439629747\n"
     ]
    }
   ],
   "source": [
    "mse_rel_dist = mean_squared_error(Y_test_dist, Y_test_pred_dist)\n",
    "print(\"Mean Squared Error_test_pred_relative_distance:\", mse_rel_dist)"
   ]
  },
  {
   "cell_type": "code",
   "execution_count": 15,
   "metadata": {},
   "outputs": [],
   "source": [
    "Y_pred_dist_flat = Y_test_pred_dist.flatten()\n",
    "Y_pred_df = pd.DataFrame(Y_pred_dist_flat, columns=['rel_dist_pred_s'])\n",
    "\n",
    "Y_test_dist_flat = Y_test_dist.flatten()\n",
    "Y_test_df = pd.DataFrame(Y_test_dist_flat, columns=['rel_dist_s'])\n",
    "\n",
    "# Concatnating the lat lon test data - to on df\n",
    "Y_rel_dist_df = pd.concat([Y_test_df, Y_pred_df], axis=1)"
   ]
  },
  {
   "cell_type": "code",
   "execution_count": 17,
   "metadata": {},
   "outputs": [],
   "source": [
    "# converting back to lat long degrees\n",
    "\n",
    "min_rel_dist, max_rel_dist = 0, 6000\n",
    "\n",
    "\n",
    "Y_rel_dist_df['rel_dist_pred'] = Y_pred_df['rel_dist_pred_s'] * (max_rel_dist - min_rel_dist) + min_rel_dist\n",
    "\n",
    "\n",
    "Y_rel_dist_df['rel_dist'] = Y_test_df['rel_dist_s'] * (max_rel_dist - min_rel_dist) + min_rel_dist\n",
    "\n"
   ]
  },
  {
   "cell_type": "code",
   "execution_count": 19,
   "metadata": {},
   "outputs": [],
   "source": [
    "Y_rel_dist_df.to_csv(to_store_path)\n"
   ]
  }
 ],
 "metadata": {
  "kernelspec": {
   "display_name": "Python 3",
   "language": "python",
   "name": "python3"
  },
  "language_info": {
   "codemirror_mode": {
    "name": "ipython",
    "version": 3
   },
   "file_extension": ".py",
   "mimetype": "text/x-python",
   "name": "python",
   "nbconvert_exporter": "python",
   "pygments_lexer": "ipython3",
   "version": "3.10.0"
  },
  "orig_nbformat": 4
 },
 "nbformat": 4,
 "nbformat_minor": 2
}
