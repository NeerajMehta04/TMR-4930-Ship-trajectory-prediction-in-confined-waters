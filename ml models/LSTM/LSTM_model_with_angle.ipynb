{
 "cells": [
  {
   "cell_type": "markdown",
   "metadata": {},
   "source": [
    "## LSTM - With RDA data representation approach *Angle"
   ]
  },
  {
   "cell_type": "code",
   "execution_count": 1,
   "metadata": {},
   "outputs": [],
   "source": [
    "import numpy as np\n",
    "import pandas as pd\n",
    "import matplotlib.pyplot as plt\n",
    "from keras.models import Sequential\n",
    "from keras.layers import LSTM, Dense\n",
    "from keras.optimizers import Adam\n",
    "from sklearn.metrics import mean_squared_error\n",
    "from sklearn.model_selection import train_test_split\n",
    "from keras.callbacks import ModelCheckpoint\n",
    "\n",
    "import tensorflow as tf\n",
    "from tensorflow.keras.models import load_model"
   ]
  },
  {
   "cell_type": "code",
   "execution_count": 16,
   "metadata": {},
   "outputs": [],
   "source": [
    "to_store_path = r'D:\\2 Thesis\\2 models\\2023.07.02 all models\\LSTM_02\\prediction csv\\v1_lstm_pred_output_rr_angle.csv'"
   ]
  },
  {
   "cell_type": "code",
   "execution_count": 5,
   "metadata": {},
   "outputs": [],
   "source": [
    "X_train = np.load(r'D:\\2 Thesis\\1 train datasets\\2 train rda\\1 train\\data_2019_train_X_v8_out.npy')\n",
    "Y_train_angle =np.load(r'D:\\2 Thesis\\1 train datasets\\2 train rda\\1 train\\data_2019_train_Y_v8_rr_angle_out.npy')\n",
    "\n",
    "X_val = np.load(r'D:\\2 Thesis\\1 train datasets\\2 train rda\\2 val\\data_2019_11_X.npy')\n",
    "Y_val_angle = np.load(r'D:\\2 Thesis\\1 train datasets\\2 train rda\\2 val\\data_2019_11_Y_array_rr_angle_m.npy')\n",
    "\n",
    "X_test = np.load(r'D:\\2 Thesis\\1 train datasets\\2 train rda\\3 test\\data_2019_12_X.npy')\n",
    "Y_test_angle = np.load(r'D:\\2 Thesis\\1 train datasets\\2 train rda\\3 test\\data_2019_12_Y_array_rr_angle_m.npy')\n"
   ]
  },
  {
   "cell_type": "code",
   "execution_count": 2,
   "metadata": {},
   "outputs": [],
   "source": [
    "## Checkpoint save - relative angle\n",
    "checkpoint_filepath_angle = r'D:\\2 Thesis\\2 models\\2023.07.02 all models\\LSTM_02\\best model rda ds\\lstm_rr_angle_best_model_v1.h5'"
   ]
  },
  {
   "cell_type": "code",
   "execution_count": null,
   "metadata": {},
   "outputs": [],
   "source": [
    "X_train = X_train.astype(\"float32\") \n",
    "Y_train_angle = Y_train_angle.astype(\"float32\") \n",
    "\n",
    "X_val = X_val.astype(\"float32\") \n",
    "Y_val_angle = Y_val_angle.astype(\"float32\") \n"
   ]
  },
  {
   "cell_type": "code",
   "execution_count": null,
   "metadata": {},
   "outputs": [],
   "source": [
    "from tensorflow.keras.utils import Sequence\n",
    "import numpy as np   \n",
    "\n",
    "class DataGenerator(Sequence):\n",
    "    def __init__(self, x_set, y_set, batch_size):\n",
    "        self.x, self.y = x_set, y_set\n",
    "        self.batch_size = batch_size\n",
    "\n",
    "    def __len__(self):\n",
    "        return int(np.ceil(len(self.x) / float(self.batch_size)))\n",
    "\n",
    "    def __getitem__(self, idx):\n",
    "        batch_x = self.x[idx * self.batch_size:(idx + 1) * self.batch_size]\n",
    "        batch_y = self.y[idx * self.batch_size:(idx + 1) * self.batch_size]\n",
    "        return batch_x, batch_y\n"
   ]
  },
  {
   "cell_type": "code",
   "execution_count": null,
   "metadata": {},
   "outputs": [],
   "source": [
    "train_gen_angle = DataGenerator(X_train, Y_train_angle, 200)\n",
    "val_gen_angle = DataGenerator(X_val, Y_val_angle, 200)"
   ]
  },
  {
   "cell_type": "code",
   "execution_count": 2,
   "metadata": {},
   "outputs": [
    {
     "name": "stdout",
     "output_type": "stream",
     "text": [
      "Model: \"sequential\"\n",
      "_________________________________________________________________\n",
      " Layer (type)                Output Shape              Param #   \n",
      "=================================================================\n",
      " lstm (LSTM)                 (None, 10, 74)            24568     \n",
      "                                                                 \n",
      " lstm_1 (LSTM)               (None, 10, 74)            44104     \n",
      "                                                                 \n",
      " dense (Dense)               (None, 10, 2)             150       \n",
      "                                                                 \n",
      "=================================================================\n",
      "Total params: 68,822\n",
      "Trainable params: 68,822\n",
      "Non-trainable params: 0\n",
      "_________________________________________________________________\n"
     ]
    }
   ],
   "source": [
    "## the LSTM model\n",
    "def lstm_model(n_steps_input, n_steps_output, n_features):\n",
    "    model = Sequential()\n",
    "    model.add(LSTM(74, activation=\"tanh\", input_shape=(n_steps_input, n_features), return_sequences=True))\n",
    "    model.add(LSTM(74, activation=\"tanh\", return_sequences=True))\n",
    "    model.add(Dense(2))\n",
    "    \n",
    "    return model\n",
    "\n",
    "model_rel_angle = lstm_model(n_steps_input = 10, n_steps_output = 10  , n_features = 8 )\n",
    "model_rel_angle.summary()"
   ]
  },
  {
   "cell_type": "code",
   "execution_count": null,
   "metadata": {},
   "outputs": [],
   "source": [
    "# Compile the model\n",
    "model_rel_angle.compile(optimizer= Adam(learning_rate = 0.0001), loss = 'mean_squared_error', metrics=['mae'] ) \n",
    "checkpoint_rel_angle = ModelCheckpoint(checkpoint_filepath_angle, monitor='val_loss', save_best_only=True, mode='min')\n",
    "\n",
    "# Train the model\n",
    "history_angle = model_rel_angle.fit(train_gen_angle, validation_data = val_gen_angle, epochs=20, verbose=1, callbacks = [checkpoint_rel_angle])  "
   ]
  },
  {
   "cell_type": "code",
   "execution_count": null,
   "metadata": {},
   "outputs": [],
   "source": [
    "# Plot the training and validation loss\n",
    "plt.plot(history_angle.history['loss'], label='Training loss')\n",
    "plt.plot(history_angle.history['val_loss'], label='Validation loss')\n",
    "plt.xlabel('Epoch')\n",
    "plt.ylabel('Loss')\n",
    "plt.legend()\n",
    "plt.show()\n",
    "\n",
    "# Plot the training and validation error\n",
    "plt.plot(history_angle.history['mae'], label='Training error')\n",
    "plt.plot(history_angle.history['val_mae'], label='Validation error')\n",
    "plt.xlabel('Epoch')\n",
    "plt.ylabel('Error')\n",
    "plt.legend()\n",
    "plt.show()"
   ]
  },
  {
   "cell_type": "code",
   "execution_count": 6,
   "metadata": {},
   "outputs": [],
   "source": [
    "best_model_angle = load_model(checkpoint_filepath_angle)"
   ]
  },
  {
   "cell_type": "code",
   "execution_count": 7,
   "metadata": {},
   "outputs": [
    {
     "name": "stdout",
     "output_type": "stream",
     "text": [
      "28322/28322 [==============================] - 133s 5ms/step\n"
     ]
    }
   ],
   "source": [
    "# Evaluate the model\n",
    "Y_test_pred_angle = best_model_angle.predict(X_test)"
   ]
  },
  {
   "cell_type": "code",
   "execution_count": 8,
   "metadata": {},
   "outputs": [],
   "source": [
    "Y_test_angle = Y_test_angle.squeeze()"
   ]
  },
  {
   "cell_type": "code",
   "execution_count": 10,
   "metadata": {},
   "outputs": [
    {
     "data": {
      "text/plain": [
       "(906289, 10, 2)"
      ]
     },
     "execution_count": 10,
     "metadata": {},
     "output_type": "execute_result"
    }
   ],
   "source": [
    "Y_test_pred_angle.shape"
   ]
  },
  {
   "cell_type": "code",
   "execution_count": 11,
   "metadata": {},
   "outputs": [
    {
     "name": "stdout",
     "output_type": "stream",
     "text": [
      "Mean Squared Error of test_pred_relative angle is : 0.033555499008231945\n"
     ]
    }
   ],
   "source": [
    "# Calculate the mean squared error\n",
    "mse_rel_angle = np.mean(np.square(Y_test_angle - Y_test_pred_angle))\n",
    "print(\"Mean Squared Error of test_pred_relative angle is :\", mse_rel_angle)"
   ]
  },
  {
   "cell_type": "code",
   "execution_count": 12,
   "metadata": {},
   "outputs": [],
   "source": [
    "# Reshape the array to (9062890, 2)\n",
    "Y_test_pred_angle_arr = np.reshape(Y_test_pred_angle, (9062890, 2))\n",
    "Y_test_angle_arr = np.reshape(Y_test_angle, (9062890, 2))\n",
    "\n",
    "# Create a DataFrame with column names\n",
    "Y_test_pred_angle_df = pd.DataFrame(Y_test_pred_angle_arr, columns=[\"sin_rangle_pred\", \"cos_rangle_pred\"])\n",
    "Y_test_angle_df = pd.DataFrame(Y_test_angle_arr, columns=[\"sin_rangle\", \"cos_rangle\"])\n",
    "# Print the DataFrame\n"
   ]
  },
  {
   "cell_type": "code",
   "execution_count": 13,
   "metadata": {},
   "outputs": [],
   "source": [
    "Y_test_angle_all_df = pd.concat([Y_test_pred_angle_df, Y_test_angle_df], axis=1)"
   ]
  },
  {
   "cell_type": "code",
   "execution_count": 17,
   "metadata": {},
   "outputs": [],
   "source": [
    "Y_test_angle_all_df.to_csv(to_store_path)\n"
   ]
  }
 ],
 "metadata": {
  "kernelspec": {
   "display_name": "Python 3",
   "language": "python",
   "name": "python3"
  },
  "language_info": {
   "codemirror_mode": {
    "name": "ipython",
    "version": 3
   },
   "file_extension": ".py",
   "mimetype": "text/x-python",
   "name": "python",
   "nbconvert_exporter": "python",
   "pygments_lexer": "ipython3",
   "version": "3.10.0"
  },
  "orig_nbformat": 4
 },
 "nbformat": 4,
 "nbformat_minor": 2
}
