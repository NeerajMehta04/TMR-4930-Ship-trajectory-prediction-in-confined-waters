{
 "cells": [
  {
   "cell_type": "markdown",
   "metadata": {},
   "source": [
    "## CNN LSTM - With RDA data representation approach *Geo-coordinate estimation"
   ]
  },
  {
   "cell_type": "code",
   "execution_count": 1,
   "metadata": {},
   "outputs": [],
   "source": [
    "import numpy as np\n",
    "import pandas as pd\n",
    "import matplotlib.pyplot as plt\n",
    "from keras.models import Sequential\n",
    "from keras.layers import LSTM, Dense\n",
    "from keras.optimizers import Adam\n",
    "from sklearn.metrics import mean_squared_error\n",
    "from sklearn.model_selection import train_test_split\n",
    "from keras.callbacks import ModelCheckpoint\n",
    "import math\n",
    "\n",
    "import tensorflow as tf\n",
    "from tensorflow.keras.models import load_model\n"
   ]
  },
  {
   "cell_type": "code",
   "execution_count": 2,
   "metadata": {},
   "outputs": [],
   "source": [
    "to_store_path = r'D:\\2 Thesis\\2 models\\2023.07.02 all models\\CNN LSTM_02\\prediction csv\\rrangle_rdist_cnn lstm_output_v1.csv'"
   ]
  },
  {
   "cell_type": "code",
   "execution_count": 3,
   "metadata": {},
   "outputs": [],
   "source": [
    "X_test_path = r'D:\\2 Thesis\\1 train datasets\\2 train rda\\3 test\\data_2019_12_X.npy'\n",
    "X_test = np.load(X_test_path)"
   ]
  },
  {
   "cell_type": "code",
   "execution_count": 4,
   "metadata": {},
   "outputs": [],
   "source": [
    "rangle_path = r'D:\\2 Thesis\\2 models\\2023.07.02 all models\\CNN LSTM_02\\prediction csv\\v1_cnn lstm_pred_output_rr_angle.csv'\n",
    "rdist_path = r'D:\\2 Thesis\\2 models\\2023.07.02 all models\\CNN LSTM_02\\prediction csv\\v1_cnn lstm_pred_output_rel_dist.csv'\n",
    "Y_test_lat_path = r'D:\\2 Thesis\\1 train datasets\\2 train rda\\3 test\\data_2019_12_Y_lat.npy'\n",
    "Y_test_lon_path = r'D:\\2 Thesis\\1 train datasets\\2 train rda\\3 test\\data_2019_12_Y_lon.npy'"
   ]
  },
  {
   "cell_type": "code",
   "execution_count": 5,
   "metadata": {},
   "outputs": [],
   "source": [
    "rangle_test_df = pd.read_csv(rangle_path)\n",
    "rdist_test_df = pd.read_csv(rdist_path)"
   ]
  },
  {
   "cell_type": "code",
   "execution_count": 6,
   "metadata": {},
   "outputs": [],
   "source": [
    "rangle_test_df = rangle_test_df.drop('Unnamed: 0', axis=1)\n",
    "rdist_test_df = rdist_test_df.drop('Unnamed: 0', axis=1)"
   ]
  },
  {
   "cell_type": "code",
   "execution_count": 7,
   "metadata": {},
   "outputs": [],
   "source": [
    "rangle_test_df['rangle_pred'] = rangle_test_df.apply(lambda row: math.degrees(math.atan2(row['sin_rangle_pred'], row['cos_rangle_pred'])), axis=1)\n",
    "rangle_test_df['rangle'] = rangle_test_df.apply(lambda row: math.degrees(math.atan2(row['sin_rangle'], row['cos_rangle'])), axis=1)"
   ]
  },
  {
   "cell_type": "code",
   "execution_count": 10,
   "metadata": {},
   "outputs": [],
   "source": [
    "Y_test_df = pd.concat([rangle_test_df, rdist_test_df], axis=1)"
   ]
  },
  {
   "cell_type": "code",
   "execution_count": 11,
   "metadata": {},
   "outputs": [],
   "source": [
    "\n",
    "X_test_flat = X_test.flatten()\n",
    "\n",
    "# reshape to 2D array with 8 columns\n",
    "X_test_array = X_test_flat.reshape(-1, 8)\n",
    "\n",
    "# convert to pandas dataframe\n",
    "X_test_df = pd.DataFrame(X_test_array, columns=['lat_s', 'lon_s', 'sog_s', 'cog_sin', 'cog_cos', 'ndc_s', 'in_tss', 'TSS_Vessel'])"
   ]
  },
  {
   "cell_type": "code",
   "execution_count": 13,
   "metadata": {},
   "outputs": [],
   "source": [
    "# converting back to lat long degrees\n",
    "\n",
    "min_lat, max_lat = 58.6, 59.93\n",
    "min_lon, max_lon = 9.4, 11.45\n",
    "\n",
    "# Y_pred_df['lat_pred'] = Y_pred_df['lat_s_pred'] * (max_lat - min_lat) + min_lat\n",
    "# Y_pred_df['lon_pred'] = Y_pred_df['lon_s_pred'] * (max_lon - min_lon) + min_lon\n",
    "\n",
    "# Y_test_df['lat_test'] = Y_test_df['lat_s_test'] * (max_lat - min_lat) + min_lat\n",
    "# Y_test_df['lon_test'] = Y_test_df['lon_s_test'] * (max_lon - min_lon) + min_lon\n",
    "\n",
    "X_test_df['lat'] = X_test_df['lat_s'] * (max_lat - min_lat) + min_lat\n",
    "X_test_df['lon'] = X_test_df['lon_s'] * (max_lon - min_lon) + min_lon\n",
    "X_test_df['voyage_id'] = X_test_df.index // 10\n",
    "X_test_df['step'] = np.arange(len(X_test_df)) % 10\n"
   ]
  },
  {
   "cell_type": "code",
   "execution_count": 14,
   "metadata": {},
   "outputs": [],
   "source": [
    "X_test_df['cog'] = np.degrees(np.arctan2(X_test_df['cog_sin'], X_test_df['cog_cos']))"
   ]
  },
  {
   "cell_type": "code",
   "execution_count": 16,
   "metadata": {},
   "outputs": [],
   "source": [
    "Y_test_df['lat_ref'] = 0\n",
    "Y_test_df['lon_ref'] = 0\n",
    "Y_test_df['cog_ref'] = 0\n",
    "\n",
    "start_indices = np.arange(0, len(Y_test_df), 10)\n",
    "end_indices = start_indices + 9\n",
    "\n",
    "lat_val = X_test_df['lat'].values[end_indices]\n",
    "lon_val = X_test_df['lon'].values[end_indices]\n",
    "cog_val = X_test_df['cog'].values[end_indices]\n",
    "\n",
    "\n",
    "lat_rep = np.repeat(lat_val, 10)\n",
    "lon_rep = np.repeat(lon_val, 10)\n",
    "cog_rep = np.repeat(cog_val, 10)\n",
    "\n",
    "Y_test_df['lat_ref'] = lat_rep[:len(Y_test_df)]\n",
    "Y_test_df['lon_ref'] = lon_rep[:len(Y_test_df)]\n",
    "Y_test_df['cog_ref'] = cog_rep[:len(Y_test_df)]"
   ]
  },
  {
   "cell_type": "code",
   "execution_count": 18,
   "metadata": {},
   "outputs": [
    {
     "data": {
      "text/plain": [
       "48.07089145709122"
      ]
     },
     "execution_count": 18,
     "metadata": {},
     "output_type": "execute_result"
    }
   ],
   "source": [
    "(abs((Y_test_df['rel_dist_pred']) - Y_test_df['rel_dist'])).mean()"
   ]
  },
  {
   "cell_type": "code",
   "execution_count": 19,
   "metadata": {},
   "outputs": [
    {
     "data": {
      "text/plain": [
       "7.10344192457855"
      ]
     },
     "execution_count": 19,
     "metadata": {},
     "output_type": "execute_result"
    }
   ],
   "source": [
    "(abs(Y_test_df['rangle_pred'] - Y_test_df['rangle'])).mean()"
   ]
  },
  {
   "cell_type": "code",
   "execution_count": 21,
   "metadata": {},
   "outputs": [],
   "source": [
    "Y_test_df['angle_pred'] = Y_test_df['cog_ref'] - Y_test_df['rangle_pred']"
   ]
  },
  {
   "cell_type": "code",
   "execution_count": 23,
   "metadata": {},
   "outputs": [],
   "source": [
    "Y_test_df['lat2'] = 0\n",
    "Y_test_df['lon2'] = 0\n"
   ]
  },
  {
   "cell_type": "code",
   "execution_count": 25,
   "metadata": {},
   "outputs": [],
   "source": [
    "import numpy as np\n",
    "import pandas as pd\n",
    "\n",
    "def reverse_haversine(df):\n",
    "    R = 6378.137  # Radius of Earth in km\n",
    "    \n",
    "    lat1 = np.radians(df['lat_ref'].values)\n",
    "    lon1 = np.radians(df['lon_ref'].values)\n",
    "    bearing = np.radians(df['angle_pred'].values)\n",
    "    distance = df['rel_dist_pred'].values/1000\n",
    "    \n",
    "    angdist = distance / R\n",
    "    \n",
    "    lat2 = np.degrees(np.arcsin((np.sin(lat1) * np.cos(angdist)) + (np.cos(lat1) * np.sin(angdist) * np.cos(bearing))))\n",
    "    lon2 = np.degrees(lon1 + np.arctan2((np.sin(bearing) * np.sin(angdist) * np.cos(lat1)), (np.cos(angdist) - (np.sin(lat1) * np.sin(np.radians(lat2))))))\n",
    "    \n",
    "    df['lat2'] = lat2\n",
    "    df['lon2'] = lon2\n",
    "    \n",
    "    return df\n",
    "\n",
    "Y_test_df= reverse_haversine(Y_test_df)"
   ]
  },
  {
   "cell_type": "code",
   "execution_count": 28,
   "metadata": {},
   "outputs": [],
   "source": [
    "Y_test_lat = np.load(Y_test_lat_path)\n",
    "Y_test_lon = np.load(Y_test_lon_path)"
   ]
  },
  {
   "cell_type": "code",
   "execution_count": 29,
   "metadata": {},
   "outputs": [],
   "source": [
    "Y_test_lat_flat = Y_test_lat.flatten()\n",
    "Y_test_lat_df = pd.DataFrame(Y_test_lat_flat, columns=['lat_s_test'])\n",
    "\n",
    "Y_test_lon_flat = Y_test_lon.flatten()\n",
    "Y_test_lon_df = pd.DataFrame(Y_test_lon_flat, columns=['lon_s_test'])\n",
    "\n",
    "# Concatnating the lat lon test data - to on df\n",
    "Y_test_and_pred_df = pd.concat([Y_test_lat_df, Y_test_lon_df, Y_test_df], axis=1)"
   ]
  },
  {
   "cell_type": "code",
   "execution_count": 30,
   "metadata": {},
   "outputs": [],
   "source": [
    "# converting back to lat long degrees\n",
    "\n",
    "min_lat, max_lat = 58.6, 59.93\n",
    "min_lon, max_lon = 9.4, 11.45\n",
    "\n",
    "Y_test_and_pred_df['lat_test'] = Y_test_and_pred_df['lat_s_test'] * (max_lat - min_lat) + min_lat\n",
    "Y_test_and_pred_df['lon_test'] = Y_test_and_pred_df['lon_s_test'] * (max_lon - min_lon) + min_lon\n"
   ]
  },
  {
   "cell_type": "code",
   "execution_count": 32,
   "metadata": {},
   "outputs": [],
   "source": [
    "from haversine import haversine, Unit\n",
    "\n",
    "Y_test_and_pred_df['deviation_dist_m'] = Y_test_and_pred_df.apply(lambda row: haversine(\n",
    "    (row['lat2'], \n",
    "    row['lon2']),\n",
    "    (row['lat_test'], \n",
    "    row['lon_test']),\n",
    "    unit=Unit.METERS\n",
    "    ),axis=1)"
   ]
  },
  {
   "cell_type": "code",
   "execution_count": 33,
   "metadata": {},
   "outputs": [
    {
     "name": "stdout",
     "output_type": "stream",
     "text": [
      "CNN LSTM_model mean_displacement_error: 98.99128273529803\n",
      "CNN LSTM_model median_displacement_error: 40.248239756454964\n"
     ]
    }
   ],
   "source": [
    "mean_deviation = Y_test_and_pred_df['deviation_dist_m'].mean()\n",
    "median_deviation = Y_test_and_pred_df['deviation_dist_m'].median()\n",
    "\n",
    "print('CNN LSTM_model mean_displacement_error:', mean_deviation)\n",
    "print('CNN LSTM_model median_displacement_error:', median_deviation)\n"
   ]
  },
  {
   "cell_type": "code",
   "execution_count": 34,
   "metadata": {},
   "outputs": [],
   "source": [
    "step_means = []\n",
    "for step in range(10):\n",
    "    step_mean = Y_test_and_pred_df['deviation_dist_m'][step::9].mean()\n",
    "    step_means.append(step_mean)\n"
   ]
  },
  {
   "cell_type": "code",
   "execution_count": 35,
   "metadata": {},
   "outputs": [
    {
     "data": {
      "image/png": "[encoded data removed]",
      "text/plain": [
       "<Figure size 640x480 with 1 Axes>"
      ]
     },
     "metadata": {},
     "output_type": "display_data"
    }
   ],
   "source": [
    "import matplotlib.pyplot as plt\n",
    "\n",
    "plt.plot(range(1, 11), step_means)\n",
    "plt.xlabel('Step')\n",
    "plt.ylabel('Mean Error (m)')\n",
    "plt.title('Mean Error for each prediction step')\n",
    "plt.ylim(80, 150)\n",
    "plt.show()\n"
   ]
  },
  {
   "cell_type": "code",
   "execution_count": 36,
   "metadata": {},
   "outputs": [
    {
     "data": {
      "image/png": "[encoded data removed]",
      "text/plain": [
       "<Figure size 640x480 with 1 Axes>"
      ]
     },
     "metadata": {},
     "output_type": "display_data"
    }
   ],
   "source": [
    "import matplotlib.pyplot as plt\n",
    "\n",
    "step_medians = []\n",
    "for step in range(10):\n",
    "    step_median = Y_test_and_pred_df['deviation_dist_m'][step::9].median()\n",
    "    step_medians.append(step_median)\n",
    "\n",
    "plt.plot(range(1, 11), step_medians)\n",
    "plt.xlabel('Step')\n",
    "plt.ylabel('Median Error (m)')\n",
    "plt.title('Median Error for each prediction step')\n",
    "plt.ylim(30,125)\n",
    "plt.show()\n"
   ]
  },
  {
   "cell_type": "code",
   "execution_count": 37,
   "metadata": {},
   "outputs": [
    {
     "name": "stdout",
     "output_type": "stream",
     "text": [
      "Final displacement error (meters) is: 98.8388328618596\n"
     ]
    }
   ],
   "source": [
    "\n",
    "step_FDE = Y_test_and_pred_df['deviation_dist_m'][9::9].mean()\n",
    "print('Final displacement error (meters) is:', step_FDE)"
   ]
  },
  {
   "cell_type": "code",
   "execution_count": 38,
   "metadata": {},
   "outputs": [],
   "source": [
    "Y_test_and_pred_df['voyage_id'] = Y_test_and_pred_df.index // 10\n",
    "Y_test_and_pred_df['step'] = np.arange(len(Y_test_and_pred_df)) % 10\n"
   ]
  },
  {
   "cell_type": "code",
   "execution_count": 39,
   "metadata": {},
   "outputs": [],
   "source": [
    "Y_test_and_pred_df.to_csv(to_store_path)\n"
   ]
  }
 ],
 "metadata": {
  "kernelspec": {
   "display_name": "Python 3",
   "language": "python",
   "name": "python3"
  },
  "language_info": {
   "codemirror_mode": {
    "name": "ipython",
    "version": 3
   },
   "file_extension": ".py",
   "mimetype": "text/x-python",
   "name": "python",
   "nbconvert_exporter": "python",
   "pygments_lexer": "ipython3",
   "version": "3.10.0"
  },
  "orig_nbformat": 4
 },
 "nbformat": 4,
 "nbformat_minor": 2
}
